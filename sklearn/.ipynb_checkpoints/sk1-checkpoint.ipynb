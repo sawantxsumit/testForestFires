{
 "cells": [
  {
   "cell_type": "markdown",
   "id": "17ddcbf4-02cc-458c-bd08-50c94fc342d4",
   "metadata": {},
   "source": [
    "# introduction to skleanr\n",
    "\n",
    "This notebook demonstrates some of the most useful function of the scikit learn library\n",
    "\n",
    "what to cover :\n",
    "0. an end to end skikit learn workflow\n",
    "1. Getting the data ready\n",
    "2. choose the right estimator/algorithm for our problems\n",
    "3. Fit the model/algorithm and use it to make predictions on our data\n",
    "4. Evaluating a model \n",
    "5. Improve a model \n",
    "6. Save and load a trained model\n",
    "7 . Putting it all together"
   ]
  },
  {
   "cell_type": "markdown",
   "id": "f5a68869-b29e-4bc6-8e64-3a74c392e2fd",
   "metadata": {},
   "source": [
    "# 0. An end to end scikit learn workflow"
   ]
  },
  {
   "cell_type": "code",
   "execution_count": 1,
   "id": "f763eb1c-603d-4aad-a834-f255c38f4c15",
   "metadata": {},
   "outputs": [
    {
     "data": {
      "text/html": [
       "<div>\n",
       "<style scoped>\n",
       "    .dataframe tbody tr th:only-of-type {\n",
       "        vertical-align: middle;\n",
       "    }\n",
       "\n",
       "    .dataframe tbody tr th {\n",
       "        vertical-align: top;\n",
       "    }\n",
       "\n",
       "    .dataframe thead th {\n",
       "        text-align: right;\n",
       "    }\n",
       "</style>\n",
       "<table border=\"1\" class=\"dataframe\">\n",
       "  <thead>\n",
       "    <tr style=\"text-align: right;\">\n",
       "      <th></th>\n",
       "      <th>age</th>\n",
       "      <th>sex</th>\n",
       "      <th>cp</th>\n",
       "      <th>trestbps</th>\n",
       "      <th>chol</th>\n",
       "      <th>fbs</th>\n",
       "      <th>restecg</th>\n",
       "      <th>thalach</th>\n",
       "      <th>exang</th>\n",
       "      <th>oldpeak</th>\n",
       "      <th>slope</th>\n",
       "      <th>ca</th>\n",
       "      <th>thal</th>\n",
       "      <th>target</th>\n",
       "    </tr>\n",
       "  </thead>\n",
       "  <tbody>\n",
       "    <tr>\n",
       "      <th>0</th>\n",
       "      <td>63</td>\n",
       "      <td>1</td>\n",
       "      <td>3</td>\n",
       "      <td>145</td>\n",
       "      <td>233</td>\n",
       "      <td>1</td>\n",
       "      <td>0</td>\n",
       "      <td>150</td>\n",
       "      <td>0</td>\n",
       "      <td>2.3</td>\n",
       "      <td>0</td>\n",
       "      <td>0</td>\n",
       "      <td>1</td>\n",
       "      <td>1</td>\n",
       "    </tr>\n",
       "    <tr>\n",
       "      <th>1</th>\n",
       "      <td>37</td>\n",
       "      <td>1</td>\n",
       "      <td>2</td>\n",
       "      <td>130</td>\n",
       "      <td>250</td>\n",
       "      <td>0</td>\n",
       "      <td>1</td>\n",
       "      <td>187</td>\n",
       "      <td>0</td>\n",
       "      <td>3.5</td>\n",
       "      <td>0</td>\n",
       "      <td>0</td>\n",
       "      <td>2</td>\n",
       "      <td>1</td>\n",
       "    </tr>\n",
       "    <tr>\n",
       "      <th>2</th>\n",
       "      <td>41</td>\n",
       "      <td>0</td>\n",
       "      <td>1</td>\n",
       "      <td>130</td>\n",
       "      <td>204</td>\n",
       "      <td>0</td>\n",
       "      <td>0</td>\n",
       "      <td>172</td>\n",
       "      <td>0</td>\n",
       "      <td>1.4</td>\n",
       "      <td>2</td>\n",
       "      <td>0</td>\n",
       "      <td>2</td>\n",
       "      <td>1</td>\n",
       "    </tr>\n",
       "    <tr>\n",
       "      <th>3</th>\n",
       "      <td>56</td>\n",
       "      <td>1</td>\n",
       "      <td>1</td>\n",
       "      <td>120</td>\n",
       "      <td>236</td>\n",
       "      <td>0</td>\n",
       "      <td>1</td>\n",
       "      <td>178</td>\n",
       "      <td>0</td>\n",
       "      <td>0.8</td>\n",
       "      <td>2</td>\n",
       "      <td>0</td>\n",
       "      <td>2</td>\n",
       "      <td>1</td>\n",
       "    </tr>\n",
       "    <tr>\n",
       "      <th>4</th>\n",
       "      <td>57</td>\n",
       "      <td>0</td>\n",
       "      <td>0</td>\n",
       "      <td>120</td>\n",
       "      <td>354</td>\n",
       "      <td>0</td>\n",
       "      <td>1</td>\n",
       "      <td>163</td>\n",
       "      <td>1</td>\n",
       "      <td>0.6</td>\n",
       "      <td>2</td>\n",
       "      <td>0</td>\n",
       "      <td>2</td>\n",
       "      <td>1</td>\n",
       "    </tr>\n",
       "  </tbody>\n",
       "</table>\n",
       "</div>"
      ],
      "text/plain": [
       "   age  sex  cp  trestbps  chol  fbs  restecg  thalach  exang  oldpeak  slope  \\\n",
       "0   63    1   3       145   233    1        0      150      0      2.3      0   \n",
       "1   37    1   2       130   250    0        1      187      0      3.5      0   \n",
       "2   41    0   1       130   204    0        0      172      0      1.4      2   \n",
       "3   56    1   1       120   236    0        1      178      0      0.8      2   \n",
       "4   57    0   0       120   354    0        1      163      1      0.6      2   \n",
       "\n",
       "   ca  thal  target  \n",
       "0   0     1       1  \n",
       "1   0     2       1  \n",
       "2   0     2       1  \n",
       "3   0     2       1  \n",
       "4   0     2       1  "
      ]
     },
     "execution_count": 1,
     "metadata": {},
     "output_type": "execute_result"
    }
   ],
   "source": [
    "# Getting the data ready\n",
    "import pandas as pd \n",
    "import numpy as np\n",
    "import matplotlib.pyplot as plt\n",
    "\n",
    "hd= pd.read_csv('heart-disease.csv')\n",
    "hd.head()"
   ]
  },
  {
   "cell_type": "code",
   "execution_count": 2,
   "id": "698a2b34-1e94-4d8b-9618-f172bdf8b7e4",
   "metadata": {},
   "outputs": [],
   "source": [
    "# Create x (Feature matrix)\n",
    "x=hd.drop('target', axis=1)\n",
    "\n",
    "# Create y (Labels)\n",
    "y=hd['target']"
   ]
  },
  {
   "cell_type": "markdown",
   "id": "e08f32ed-c725-42b2-9869-3e236445da2a",
   "metadata": {},
   "source": [
    "What is Ensemble Learning?\n",
    "Imagine asking one friend for advice—might be okay.\n",
    "Now imagine asking a group of smart friends and going with the majority vote—that's often a better decision.\n",
    "Ensemble learning works the same way in machine learning:\n",
    "It combines multiple models (usually weak ones like small decision trees) to create a stronger, more accurate model.\n",
    "\n",
    "    \n",
    "What is Random Forest?\n",
    "It’s called a \"forest\" because:\n",
    "It builds lots of Decision Trees (like a forest full of trees).\n",
    "\n",
    "Each tree is trained on a slightly different slice of the data.\n",
    "\n",
    "When you ask it to make a prediction, it takes a vote across all the trees.\n",
    "\n",
    "The final prediction is the majority vote (for classification) or average (for regression).\n",
    "\n",
    "\n",
    "What is RandomForestClassifier?\n",
    "It’s a ready-to-use Random Forest model in Scikit-learn designed for classification problems.\n"
   ]
  },
  {
   "cell_type": "code",
   "execution_count": 3,
   "id": "38615e80-ecff-4f58-8c24-c7a328024adf",
   "metadata": {},
   "outputs": [
    {
     "data": {
      "text/plain": [
       "{'bootstrap': True,\n",
       " 'ccp_alpha': 0.0,\n",
       " 'class_weight': None,\n",
       " 'criterion': 'gini',\n",
       " 'max_depth': None,\n",
       " 'max_features': 'sqrt',\n",
       " 'max_leaf_nodes': None,\n",
       " 'max_samples': None,\n",
       " 'min_impurity_decrease': 0.0,\n",
       " 'min_samples_leaf': 1,\n",
       " 'min_samples_split': 2,\n",
       " 'min_weight_fraction_leaf': 0.0,\n",
       " 'monotonic_cst': None,\n",
       " 'n_estimators': 100,\n",
       " 'n_jobs': None,\n",
       " 'oob_score': False,\n",
       " 'random_state': None,\n",
       " 'verbose': 0,\n",
       " 'warm_start': False}"
      ]
     },
     "execution_count": 3,
     "metadata": {},
     "output_type": "execute_result"
    }
   ],
   "source": [
    "# 2. Choose the right estimator/algorithm for our problems\n",
    "from sklearn.ensemble import RandomForestClassifier\n",
    "clf=RandomForestClassifier(n_estimators=100)\n",
    "\n",
    "# n_estimator means the number of decision trees in random forest\n",
    "clf.get_params()"
   ]
  },
  {
   "cell_type": "code",
   "execution_count": 4,
   "id": "6f9d6ae1-b576-4677-b498-b339aebcd1e4",
   "metadata": {},
   "outputs": [],
   "source": [
    "# 3. Fit the model to data\n",
    "\n",
    "#Explanation\n",
    "#test_size=0.2 -> You want to use 20% of the data for testing and the other 80% for training.\n",
    "#It splits the data like this:\n",
    "# x_train: 80% of the inputs (for training)\n",
    "# x_test: 20% of the inputs (for testing)\n",
    "# y_train: 80% of the outputs (targets for training)\n",
    "# y_test: 20% of the outputs (targets for testing)\n",
    "\n",
    "from sklearn.model_selection import train_test_split\n",
    "x_train , x_test , y_train, y_test =train_test_split(x, y ,test_size=0.2)"
   ]
  },
  {
   "cell_type": "code",
   "execution_count": 5,
   "id": "ed2d3c45-6291-4c2e-9fee-1b45fe11a628",
   "metadata": {},
   "outputs": [],
   "source": [
    "clf.fit(x_train , y_train);"
   ]
  },
  {
   "cell_type": "code",
   "execution_count": 6,
   "id": "6baf4f1c-792c-46a8-970c-161b07ed4f87",
   "metadata": {},
   "outputs": [
    {
     "data": {
      "text/plain": [
       "array([1, 1, 1, 1, 0, 1, 0, 0, 1, 0, 1, 0, 1, 1, 0, 1, 1, 0, 1, 0, 1, 0,\n",
       "       1, 1, 0, 1, 0, 1, 1, 1, 1, 0, 0, 1, 0, 1, 1, 1, 1, 1, 1, 0, 0, 1,\n",
       "       0, 1, 1, 1, 0, 0, 0, 1, 1, 1, 0, 1, 0, 1, 1, 1, 0])"
      ]
     },
     "execution_count": 6,
     "metadata": {},
     "output_type": "execute_result"
    }
   ],
   "source": [
    "# Make a prediction\n",
    "y_pred= clf.predict(x_test)\n",
    "y_pred"
   ]
  },
  {
   "cell_type": "code",
   "execution_count": 8,
   "id": "b64b62bc-2f0b-4956-afac-2d01b90c5c51",
   "metadata": {},
   "outputs": [
    {
     "data": {
      "text/plain": [
       "1.0"
      ]
     },
     "execution_count": 8,
     "metadata": {},
     "output_type": "execute_result"
    }
   ],
   "source": [
    "# Evaluate the model\n",
    "# returns mean accuracy\n",
    "clf.score(x_train , y_train)"
   ]
  },
  {
   "cell_type": "code",
   "execution_count": 9,
   "id": "df9fa281-e113-4f9a-b900-be20103a418c",
   "metadata": {},
   "outputs": [
    {
     "data": {
      "text/plain": [
       "0.8360655737704918"
      ]
     },
     "execution_count": 9,
     "metadata": {},
     "output_type": "execute_result"
    }
   ],
   "source": [
    "clf.score(x_test, y_test)\n",
    "#the output shows that the model can predict the outcome with 83% accuracy"
   ]
  },
  {
   "cell_type": "code",
   "execution_count": 10,
   "id": "c8567078-d728-45c4-923e-c04e7c72e347",
   "metadata": {},
   "outputs": [
    {
     "name": "stdout",
     "output_type": "stream",
     "text": [
      "              precision    recall  f1-score   support\n",
      "\n",
      "           0       0.87      0.74      0.80        27\n",
      "           1       0.82      0.91      0.86        34\n",
      "\n",
      "    accuracy                           0.84        61\n",
      "   macro avg       0.84      0.83      0.83        61\n",
      "weighted avg       0.84      0.84      0.83        61\n",
      "\n"
     ]
    }
   ],
   "source": [
    "from sklearn.metrics import classification_report , confusion_matrix, accuracy_score\n",
    "\n",
    "print(classification_report(y_test, y_pred))\n",
    "\n",
    "'''Precision = True Positives / (True Positives + False Positives)\n",
    "→ How many you got right out of your guesses\n",
    "\n",
    "Recall = True Positives / (True Positives + False Negatives)\n",
    "→ How many you got right out of the real ones'''"
   ]
  },
  {
   "cell_type": "code",
   "execution_count": 11,
   "id": "e0f8ca29-246e-427b-bae6-05f610a68a1f",
   "metadata": {},
   "outputs": [
    {
     "data": {
      "text/plain": [
       "array([[20,  7],\n",
       "       [ 3, 31]])"
      ]
     },
     "execution_count": 11,
     "metadata": {},
     "output_type": "execute_result"
    }
   ],
   "source": [
    "confusion_matrix(y_test , y_pred)\n",
    "# array([TN , FP \n",
    "#       , FN , TP])"
   ]
  },
  {
   "cell_type": "code",
   "execution_count": 12,
   "id": "59d9162a-33a5-43d0-b386-1f395873075a",
   "metadata": {},
   "outputs": [
    {
     "data": {
      "text/plain": [
       "0.8360655737704918"
      ]
     },
     "execution_count": 12,
     "metadata": {},
     "output_type": "execute_result"
    }
   ],
   "source": [
    "# Accuracy=TP+TN/total\n",
    "# = (20+31)/61\n",
    "# =0.836≈0.84\n",
    "\n",
    "accuracy_score(y_test, y_pred)"
   ]
  },
  {
   "cell_type": "code",
   "execution_count": 16,
   "id": "1a8ef780-3ca2-4b6f-9588-d8401e1a61c3",
   "metadata": {},
   "outputs": [
    {
     "name": "stdout",
     "output_type": "stream",
     "text": [
      "Trying model with 10 estimators... \n",
      "Model accuracy on test set : 80.33\n",
      "\n",
      "Trying model with 20 estimators... \n",
      "Model accuracy on test set : 81.97\n",
      "\n",
      "Trying model with 30 estimators... \n",
      "Model accuracy on test set : 80.33\n",
      "\n",
      "Trying model with 40 estimators... \n",
      "Model accuracy on test set : 81.97\n",
      "\n",
      "Trying model with 50 estimators... \n",
      "Model accuracy on test set : 83.61\n",
      "\n",
      "Trying model with 60 estimators... \n",
      "Model accuracy on test set : 81.97\n",
      "\n",
      "Trying model with 70 estimators... \n",
      "Model accuracy on test set : 80.33\n",
      "\n",
      "Trying model with 80 estimators... \n",
      "Model accuracy on test set : 85.25\n",
      "\n",
      "Trying model with 90 estimators... \n",
      "Model accuracy on test set : 80.33\n",
      "\n"
     ]
    }
   ],
   "source": [
    "#improve the model\n",
    "# try different amount of n_estimators\n",
    "np.random.seed(2)\n",
    "for i in range(10,100,10):\n",
    "    print(f\"Trying model with {i} estimators... \")\n",
    "    clf=RandomForestClassifier(n_estimators=i).fit(x_train, y_train)\n",
    "    print(f\"Model accuracy on test set : {clf.score(x_test, y_test) * 100:.2f}\")\n",
    "    print(\"\")\n",
    "    "
   ]
  },
  {
   "cell_type": "code",
   "execution_count": 17,
   "id": "cc857414-855a-421e-a5de-5506355459ef",
   "metadata": {},
   "outputs": [],
   "source": [
    "# save a model and load it\n",
    "import pickle\n",
    "pickle.dump(clf, open(\"random_forest_model_1.pkl\",'wb' ))\n",
    "#wb-> write binary"
   ]
  },
  {
   "cell_type": "code",
   "execution_count": 18,
   "id": "2f33e713-3eab-4d56-9e8e-21ab9dc20bdf",
   "metadata": {},
   "outputs": [],
   "source": [
    "loaded_model=pickle.load(open(\"random_forest_model_1.pkl\", 'rb'))"
   ]
  },
  {
   "cell_type": "code",
   "execution_count": 19,
   "id": "34443400-c87f-4439-bfa4-7a86b6e28509",
   "metadata": {},
   "outputs": [
    {
     "data": {
      "text/plain": [
       "0.8032786885245902"
      ]
     },
     "execution_count": 19,
     "metadata": {},
     "output_type": "execute_result"
    }
   ],
   "source": [
    "loaded_model.score(x_test, y_test)"
   ]
  },
  {
   "cell_type": "code",
   "execution_count": null,
   "id": "bc78c9c0-dba7-4528-8b36-7270f0252398",
   "metadata": {},
   "outputs": [],
   "source": []
  }
 ],
 "metadata": {
  "kernelspec": {
   "display_name": "Python 3 (ipykernel)",
   "language": "python",
   "name": "python3"
  },
  "language_info": {
   "codemirror_mode": {
    "name": "ipython",
    "version": 3
   },
   "file_extension": ".py",
   "mimetype": "text/x-python",
   "name": "python",
   "nbconvert_exporter": "python",
   "pygments_lexer": "ipython3",
   "version": "3.13.2"
  }
 },
 "nbformat": 4,
 "nbformat_minor": 5
}
