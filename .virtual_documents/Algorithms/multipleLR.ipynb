


import pandas as pd 
import numpy as np 
import matplotlib.pyplot as plt 



df=pd.read_csv('economics_dataset.csv')
df


df.isnull().sum()


import seaborn as sns 
sns.pairplot(df)


df.corr()


plt.scatter(df['interest_rate'] , df['unemployment_rate'], color='r')
plt.xlabel('Interest rate')
plt.ylabel('Unemployment rate')


#independent and dependent features
x=df.iloc[:, :-1]
y=df.iloc[:,-1]


x.head()


y



from sklearn.model_selection import train_test_split
x_train , x_test , y_train ,  y_test= train_test_split(x, y, test_size=0.3)



sns.regplot(x=df['interest_rate'] ,y= df['index_price'])


sns.regplot(x=df['interest_rate'] ,y= df['unemployment_rate'])



sns.regplot(x=df['index_price'] ,y= df['unemployment_rate'])



from sklearn.preprocessing import StandardScaler



scaler=StandardScaler()
x_train=scaler.fit_transform(x_train )


x_test=scaler.fit_transform(x_test)


x_train


from sklearn.linear_model import LinearRegression
lr=LinearRegression()
lr.fit(x_train, y_train)


# for hyperparameter tuning we split the training data further into train and validation data



from sklearn.model_selection import cross_val_score
valScore=cross_val_score(lr , x_train ,y_train, scoring='neg_mean_squared_error', 
                        cv=3)



valScore


np.mean(valScore)


#prediction
y_pred=lr.predict(x_test)


y_pred


#performance metrics
from sklearn.metrics import mean_squared_error , mean_absolute_error
mse=mean_squared_error(y_test , y_pred)
mae=mean_absolute_error(y_test , y_pred)
rmse=np.sqrt(mse)
print(mse)
print(mae)
print(rmse)


from sklearn.metrics import r2_score
score=r2_score(y_test , y_pred)
print(score)


# display the adjusted r squared
ar2= 1-(1-score)*(len(y_test)-1)/(len(y_test)-x_test.shape[1]-1)
ar2





plt.scatter(y_test , y_pred)


residuals=y_test - y_pred
print(residuals)


# plot this residual
sns.displot(residuals , kind='kde')


# create a scatter plot wrt to prediction and residuals
plt.scatter(y_pred , residuals)


# ols linear regression
import statsmodels.api as sm 
model=sm.OLS(y_train , x_train).fit()


model.summary()


print(lr.coef_)



