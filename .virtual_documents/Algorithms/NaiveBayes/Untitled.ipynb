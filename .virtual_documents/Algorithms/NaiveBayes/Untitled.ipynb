


from sklearn.datasets import load_iris
from sklearn.model_selection import train_test_split
import pandas as pd 


x,y= load_iris(return_X_y=True)


x


y.shape


x_train , x_test , y_train , y_test= train_test_split(x,y, test_size=0.3 , random_state=33)


from sklearn.naive_bayes import GaussianNB


gnb=GaussianNB()


gnb.fit(x_train,y_train)


y_pred= gnb.predict(x_test)


from sklearn.metrics import classification_report, accuracy_score , confusion_matrix



print(accuracy_score(y_test, y_pred))
print(classification_report(y_test, y_pred))
print(confusion_matrix(y_test, y_pred))


import seaborn as sns
tip=sns.load_dataset('tips')


tip


tip['sex']= tip['sex'].map({'Female':1, 'Male':0})


tip['smoker']= tip['smoker'].map({'No':1, 'Yes':0})



tip_df=pd.DataFrame(tip)


tip_df


tip_df['day'].unique()


tip['smo']= tip['smoker'].map({'No':1, 'Yes':0})

