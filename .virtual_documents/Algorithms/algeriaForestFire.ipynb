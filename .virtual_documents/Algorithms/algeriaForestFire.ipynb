


import pandas as pd 
import numpy as np 
import matplotlib.pyplot as plt
import seaborn as sns


df=pd.read_csv('Algerian_forest_fires_dataset.csv')
df


df.info()
# we will use a regression algorithm to predict the temperature



#missing values
df[df.isnull().any(axis=1)]





df.loc[:122, 'region']=0
df.loc[122:, 'region']=1



df.info()


df[['region']]=df[['region']].astype(int)


df.head()


df= df.dropna().reset_index(drop=True)


df.isnull().sum()


df.head()


df.iloc[[122]]


# drop the 122nd row
df=df.drop(122).reset_index(drop=True)


 df.columns


df.columns=df.columns.str.strip()


df.info()


# change the required columns as integer datatype
df[['month', 'day', 'year' , 'Temperature' , 'RH' , 'Ws']]= df[['month', 'day', 'year' , 'Temperature' , 'RH' , 'Ws']].astype(int)


df.info()


# change the ohter columns to float
objects=[features for features in df.columns if df[features].dtypes=='O']


objects


for i in objects:
    if i!='Classes':
        df[i]=df[i].astype(float)


df.info()


df.head()


# save the cleaned dataset
df.to_csv('Algerian_forest_cleaned.csv', index=False)





# drop day , month and year
df_copy=df.drop(['day', 'month' , 'year'], axis=1)


df_copy.head()


df_copy['Classes'].value_counts()


df_copy['Classes']= np.where(df_copy['Classes'].str.contains('not fire'), 0,1)


df_copy.head()


df_copy['Classes'].value_counts()



# plot the density plot for all features
plt.style.use('Solarize_Light2')
df_copy.hist(bins=50, figsize=(20,15))
plt.show()


# percentage for pie chart
perentage=df_copy['Classes'].value_counts(normalize=True)*100 



#plotting piechart
classlables=['Fire', 'Not Fire']
plt.figure(figsize=(12,7))
plt.pie(perentage, labels=classlables , autopct='%1.1f%%')
plt.title('Pie chart of classes')
plt.show()


# co relation
df_copy.corr()


sns.heatmap(df_copy.corr(), annot=True)


sns.boxplot(df['FWI'], color='green')


df.head()


df['Classes']=np.where(df['Classes'].str.contains('not fire'), 'not fire', 'fire')


#monthly fire analysis
dftemp=df.loc[df['region']==1]
plt.subplots(figsize=(13,6))
sns.set_style('whitegrid')
sns.countplot(x='month' , hue='Classes', data=df)
plt.ylabel('Number of fires ', weight='bold')
plt.xlabel('Months ', weight='bold')
plt.title('Fire analysis of sidi bel regions', weight='bold')


# for brjaia region
dftemp=df.loc[df['region']==0]
plt.subplots(figsize=(13,6))
sns.set_style('whitegrid')
sns.countplot(x='month', hue='Classes', data=df)
plt.ylabel('Number of fires ', weight='bold')
plt.xlabel('month', weight='bold')
plt.title('Fire analysis of brjaia regions ', weight='bold')






