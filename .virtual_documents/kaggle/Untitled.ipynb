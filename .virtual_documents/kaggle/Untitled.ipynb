import pandas as pd 
import numpy as np 



df=pd.read_csv("titanic/train.csv")


df.head(10)


df.shape


df=df.drop('Name', axis=1)
df=df.drop('Ticket', axis=1)
df=df.drop('Cabin', axis=1)


# set 0 for female and 1 for male
df['Sex']=df['Sex'].map({'female':0, 'male':1})



df.head(10)


df['Age'].unique()


df['Age'].isnull().sum()


#fill the null values in the age column to the median of age
df.fillna({'Age' : df['Age'].median()} , inplace=True)


df['Age'].isnull().sum()



# set the age of all children less than one year to 1 year
df.loc[df['Age'] < 1] = 1


df.Age.unique()


#now change the data type of age from float to int
df['Age']=df['Age'].astype(int)



df.Age.value_counts()



df.head()


df['Fare']=df['Fare'].astype(int)


df.head()


df[df['PassengerId']==78]


df.dropna(subset='Embarked', inplace=True)


df['Embarked'].dtype


#drop the records in embarked where value is 1
df = df[df['Embarked'] != 1]



df['Embarked'].unique()


#now change the categorical values in embarked column to s:0 , C:1 and Q:2
df['Embarked']=df['Embarked'].map({'S':0, 'C':1 , 'Q':2})



df['Embarked'].unique()



df.head()


df.isnull().sum()



