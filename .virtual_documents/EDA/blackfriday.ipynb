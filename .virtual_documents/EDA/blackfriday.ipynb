





import numpy as np 
import pandas as pd
import seaborn as sns
import matplotlib.pyplot as plt


#importing the dataset
df_train=pd.read_csv('train.csv')
df_test=pd.read_csv('test.csv')
df_train.shape


df_train.head()





# merge both train and test data
df=pd.merge(df_train, df_test, how='outer')
df.shape


df.head()


df.describe


# delete the user_id column since it is not useful for us
df.drop(['User_ID'] ,axis=1, inplace=True)


df.head()
df['Gender'].unique()


# to convert gender(categorical feature) into numberical feature 
#take f as 0 and m as 1
df['Gender']=df['Gender'].map({'F':0, 'M':1})
df.head()



df['Age'].unique()


# handle categorical feature age
# this is called as target guiding (values that our model is able to understand wrt to other features)
# also called target-guided ordinal encoding
df['Age'] = df['Age'].map({'0-17':1,'18-25':2, '26-35':3, '36-45':4, '46-50':5, '51-55':6, '55+':7})



df.head()


print(df['City_Category'].unique())
print(df['City_Category'].value_counts())



# fixing categorical city_category
df_city=pd.get_dummies(df['City_Category'], drop_first=True).astype(int)


df_city.head()


df=pd.concat([df, df_city],axis=1)


df.head()


#drop city category
df=df.drop('City_Category', axis=1)


df.head()


#missing values
df.isnull().sum()


# focus on replacing missing values
df['Product_Category_2'].unique()


df['Product_Category_2'].value_counts()



df['Product_Category_2'].mode()[0]


#replace the missing values with mode
df['Product_Category_2']=df['Product_Category_2'].fillna(df['Product_Category_2'].mode()[0])


df['Product_Category_2'].isnull().sum()


## product category 3 replace missing values
df['Product_Category_3']=df['Product_Category_3'].fillna(df['Product_Category_3'].mode()[0])


df.head()


df.shape


df['Stay_In_Current_City_Years'].unique()



df['Stay_In_Current_City_Years']=df['Stay_In_Current_City_Years'].str.replace('+', '')


df['Stay_In_Current_City_Years'].unique()



df.info()


## convert object type into integer
df['Stay_In_Current_City_Years']=df['Stay_In_Current_City_Years'].astype(int)



df.info()


#visualization
# sns.pairplot(df)
sns.barplot(x='Age' , y='Purchase', data=df, hue='Gender')
#female =0 and male =1


# observation
#purchasing of male over women is high


# visualization of purchase with occupation
sns.barplot(x='Occupation', y='Purchase' , data=df, hue='Gender')


sns.barplot(x='Product_Category_1', y='Purchase' , data=df, hue='Gender')



sns.barplot(x='Product_Category_2', y='Purchase' , data=df, hue='Gender')



sns.barplot(x='Product_Category_3', y='Purchase' , data=df, hue='Gender')



#observation
#productcatrgory_1 is most purchased among 3
df.head()


#feature scaling
df_test=df[df['Purchase'].isnull()]


# all values that are not null belong to the train data
df_train=df[~df['Purchase'].isnull()]



x=df_train.drop('Purchase' , axis=1)
x.head()


y=df_train['Purchase']
y.shape


from sklearn.model_selection import train_test_split
x_train , x_test , y_train, y_test = train_test_split(
    x, y , test_size=0.33 , random_state=42
)


x_train.drop('Product_ID', axis=1, inplace =True)
x_test.drop('Product_ID', axis=1, inplace =True)


# feature scaling
from sklearn.preprocessing import StandardScaler
sc=StandardScaler()
sc.fit_transformnsformansform(x_train)
x_test=sc.transform(x_test)


# train your model
