{
 "cells": [
  {
   "cell_type": "markdown",
   "id": "00bc16f9-295b-47c2-a5e0-f6b8aeb2b97f",
   "metadata": {},
   "source": [
    "# Handling imbalanced dataset\n",
    "1. Up sampling\n",
    "2. Down sampling\n"
   ]
  },
  {
   "cell_type": "code",
   "execution_count": 3,
   "id": "5581457f-dea9-47cc-a665-e8f4cd05af40",
   "metadata": {},
   "outputs": [],
   "source": [
    "import pandas as pd \n",
    "import numpy as np"
   ]
  },
  {
   "cell_type": "code",
   "execution_count": 5,
   "id": "8ff9956d-387d-4476-87db-4b570b10005d",
   "metadata": {},
   "outputs": [],
   "source": [
    "np.random.seed(22)\n",
    "\n",
    "#creating a dataframe with two classes\n",
    "n_samples=1000\n",
    "class_0_ratio=0.9\n",
    "n_class0= int(n_samples * class_0_ratio)\n",
    "n_class_1=n_samples - n_class0\n",
    "\n"
   ]
  },
  {
   "cell_type": "code",
   "execution_count": 6,
   "id": "30bf0307-84bd-4dd4-9bf6-49708671ce15",
   "metadata": {},
   "outputs": [
    {
     "data": {
      "text/plain": [
       "(900, 100)"
      ]
     },
     "execution_count": 6,
     "metadata": {},
     "output_type": "execute_result"
    }
   ],
   "source": [
    "n_class0 , n_class_1"
   ]
  },
  {
   "cell_type": "code",
   "execution_count": 7,
   "id": "7bf00866-a6b1-41bf-a729-9be7febee021",
   "metadata": {},
   "outputs": [],
   "source": [
    "# create my dataframe with imbalanced dataset\n",
    "class_0= pd.DataFrame({\n",
    "    'feature_1': np.random.normal(loc=0 , scale=1 , size=n_class0),\n",
    "    'feature 2': np.random.normal(loc=0 , scale=1 , size=n_class0),\n",
    "    'target': [0] *n_class0\n",
    "})\n",
    "\n",
    "class_1= pd.DataFrame({\n",
    "    'feature_1': np.random.normal(loc=2 , scale=1 , size=n_class_1),\n",
    "    'feature 2': np.random.normal(loc=2 , scale=1 , size=n_class_1),\n",
    "    'target': [1] *n_class_1\n",
    "})"
   ]
  },
  {
   "cell_type": "code",
   "execution_count": 10,
   "id": "3ad4b6d7-4f72-49d9-8b1b-7bcf02785df7",
   "metadata": {},
   "outputs": [],
   "source": [
    "df=pd.concat([class_0, class_1]).reset_index(drop=True)"
   ]
  },
  {
   "cell_type": "code",
   "execution_count": 11,
   "id": "7c2988e6-ed84-4b1f-b5ad-c2ad4f2aae8b",
   "metadata": {},
   "outputs": [
    {
     "data": {
      "text/plain": [
       "target\n",
       "0    900\n",
       "1    100\n",
       "Name: count, dtype: int64"
      ]
     },
     "execution_count": 11,
     "metadata": {},
     "output_type": "execute_result"
    }
   ],
   "source": [
    "df['target'].value_counts()"
   ]
  },
  {
   "cell_type": "code",
   "execution_count": 12,
   "id": "3d4535bc-c662-4c43-90fa-817391577c4f",
   "metadata": {},
   "outputs": [],
   "source": [
    "# upsampling -> to create some artificial points to increase the number of 1's\n",
    "df_majority=df[df['target']==0]\n",
    "df_minority=df[df['target']==1]"
   ]
  },
  {
   "cell_type": "code",
   "execution_count": 13,
   "id": "ea23fca9-505d-4d41-a524-dce0bb3be0a5",
   "metadata": {},
   "outputs": [],
   "source": [
    "from sklearn.utils import resample\n",
    "df_minority_upsampled= resample(df_minority , replace=True, # sample gets added with replacement\n",
    "         n_samples=len(df_majority) ,\n",
    "         random_state=90\n",
    "        ) "
   ]
  },
  {
   "cell_type": "code",
   "execution_count": 14,
   "id": "82134ba1-28fa-4dbe-b557-c63a6b01a721",
   "metadata": {},
   "outputs": [
    {
     "data": {
      "text/html": [
       "<div>\n",
       "<style scoped>\n",
       "    .dataframe tbody tr th:only-of-type {\n",
       "        vertical-align: middle;\n",
       "    }\n",
       "\n",
       "    .dataframe tbody tr th {\n",
       "        vertical-align: top;\n",
       "    }\n",
       "\n",
       "    .dataframe thead th {\n",
       "        text-align: right;\n",
       "    }\n",
       "</style>\n",
       "<table border=\"1\" class=\"dataframe\">\n",
       "  <thead>\n",
       "    <tr style=\"text-align: right;\">\n",
       "      <th></th>\n",
       "      <th>feature_1</th>\n",
       "      <th>feature 2</th>\n",
       "      <th>target</th>\n",
       "    </tr>\n",
       "  </thead>\n",
       "  <tbody>\n",
       "    <tr>\n",
       "      <th>991</th>\n",
       "      <td>2.605319</td>\n",
       "      <td>0.640515</td>\n",
       "      <td>1</td>\n",
       "    </tr>\n",
       "    <tr>\n",
       "      <th>929</th>\n",
       "      <td>0.769809</td>\n",
       "      <td>0.390619</td>\n",
       "      <td>1</td>\n",
       "    </tr>\n",
       "    <tr>\n",
       "      <th>931</th>\n",
       "      <td>2.582673</td>\n",
       "      <td>2.027259</td>\n",
       "      <td>1</td>\n",
       "    </tr>\n",
       "    <tr>\n",
       "      <th>967</th>\n",
       "      <td>3.865954</td>\n",
       "      <td>1.153258</td>\n",
       "      <td>1</td>\n",
       "    </tr>\n",
       "    <tr>\n",
       "      <th>939</th>\n",
       "      <td>1.616449</td>\n",
       "      <td>1.503123</td>\n",
       "      <td>1</td>\n",
       "    </tr>\n",
       "  </tbody>\n",
       "</table>\n",
       "</div>"
      ],
      "text/plain": [
       "     feature_1  feature 2  target\n",
       "991   2.605319   0.640515       1\n",
       "929   0.769809   0.390619       1\n",
       "931   2.582673   2.027259       1\n",
       "967   3.865954   1.153258       1\n",
       "939   1.616449   1.503123       1"
      ]
     },
     "execution_count": 14,
     "metadata": {},
     "output_type": "execute_result"
    }
   ],
   "source": [
    "df_minority_upsampled.head()\n"
   ]
  },
  {
   "cell_type": "code",
   "execution_count": 15,
   "id": "351f06aa-defc-47a0-8ba0-5dc9f8b587a9",
   "metadata": {},
   "outputs": [
    {
     "data": {
      "text/plain": [
       "(900, 3)"
      ]
     },
     "execution_count": 15,
     "metadata": {},
     "output_type": "execute_result"
    }
   ],
   "source": [
    "df_minority_upsampled.shape\n"
   ]
  },
  {
   "cell_type": "code",
   "execution_count": 16,
   "id": "76dc8836-f1fb-412f-b417-40ceecef0b4c",
   "metadata": {},
   "outputs": [],
   "source": [
    "df_upsampled= pd.concat([df_majority , df_minority_upsampled])"
   ]
  },
  {
   "cell_type": "code",
   "execution_count": 17,
   "id": "31f9fac0-61cd-4102-977e-5e221a7f73fb",
   "metadata": {},
   "outputs": [
    {
     "data": {
      "text/plain": [
       "target\n",
       "0    900\n",
       "1    900\n",
       "Name: count, dtype: int64"
      ]
     },
     "execution_count": 17,
     "metadata": {},
     "output_type": "execute_result"
    }
   ],
   "source": [
    " df_upsampled['target'].value_counts()"
   ]
  },
  {
   "cell_type": "code",
   "execution_count": 18,
   "id": "19e51a5d-d459-417a-949e-86ed12ff4965",
   "metadata": {},
   "outputs": [
    {
     "data": {
      "text/plain": [
       "target\n",
       "0    900\n",
       "1    100\n",
       "Name: count, dtype: int64"
      ]
     },
     "execution_count": 18,
     "metadata": {},
     "output_type": "execute_result"
    }
   ],
   "source": [
    "# down sampling\n",
    "np.random.seed(22)\n",
    "\n",
    "#creating a dataframe with two classes\n",
    "n_samples=1000\n",
    "class_0_ratio=0.9\n",
    "n_class0= int(n_samples * class_0_ratio)\n",
    "n_class_1=n_samples - n_class0\n",
    "\n",
    "# create my dataframe with imbalanced dataset\n",
    "class_0= pd.DataFrame({\n",
    "    'feature_1': np.random.normal(loc=0 , scale=1 , size=n_class0),\n",
    "    'feature 2': np.random.normal(loc=0 , scale=1 , size=n_class0),\n",
    "    'target': [0] *n_class0\n",
    "})\n",
    "\n",
    "class_1= pd.DataFrame({\n",
    "    'feature_1': np.random.normal(loc=2 , scale=1 , size=n_class_1),\n",
    "    'feature 2': np.random.normal(loc=2 , scale=1 , size=n_class_1),\n",
    "    'target': [1] *n_class_1\n",
    "})\n",
    "\n",
    "df=pd.concat([class_0, class_1]).reset_index(drop=True)\n",
    "df['target'].value_counts()\n"
   ]
  },
  {
   "cell_type": "code",
   "execution_count": 19,
   "id": "042caf84-9708-4800-b7a9-e4448f9999b5",
   "metadata": {},
   "outputs": [],
   "source": [
    "df_majority=df[df['target']==0]\n",
    "df_minority=df[df['target']==1]"
   ]
  },
  {
   "cell_type": "code",
   "execution_count": 28,
   "id": "ac99cd05-7a80-4978-9513-8d8c84d30868",
   "metadata": {},
   "outputs": [],
   "source": [
    "from sklearn.utils import resample\n",
    "df_majority_downsampled= resample(df_majority ,replace=False, # sample gets added with replacement\n",
    "         n_samples=len(df_minority) ,\n",
    "         random_state=90\n",
    "        ) "
   ]
  },
  {
   "cell_type": "code",
   "execution_count": 29,
   "id": "c3076bf6-1b37-4350-8d66-497789fc33ba",
   "metadata": {},
   "outputs": [
    {
     "data": {
      "text/html": [
       "<div>\n",
       "<style scoped>\n",
       "    .dataframe tbody tr th:only-of-type {\n",
       "        vertical-align: middle;\n",
       "    }\n",
       "\n",
       "    .dataframe tbody tr th {\n",
       "        vertical-align: top;\n",
       "    }\n",
       "\n",
       "    .dataframe thead th {\n",
       "        text-align: right;\n",
       "    }\n",
       "</style>\n",
       "<table border=\"1\" class=\"dataframe\">\n",
       "  <thead>\n",
       "    <tr style=\"text-align: right;\">\n",
       "      <th></th>\n",
       "      <th>feature_1</th>\n",
       "      <th>feature 2</th>\n",
       "      <th>target</th>\n",
       "    </tr>\n",
       "  </thead>\n",
       "  <tbody>\n",
       "    <tr>\n",
       "      <th>520</th>\n",
       "      <td>-0.872657</td>\n",
       "      <td>-0.464123</td>\n",
       "      <td>0</td>\n",
       "    </tr>\n",
       "    <tr>\n",
       "      <th>414</th>\n",
       "      <td>1.552226</td>\n",
       "      <td>-0.676941</td>\n",
       "      <td>0</td>\n",
       "    </tr>\n",
       "    <tr>\n",
       "      <th>895</th>\n",
       "      <td>0.682641</td>\n",
       "      <td>-1.842999</td>\n",
       "      <td>0</td>\n",
       "    </tr>\n",
       "    <tr>\n",
       "      <th>649</th>\n",
       "      <td>-0.271129</td>\n",
       "      <td>-1.085376</td>\n",
       "      <td>0</td>\n",
       "    </tr>\n",
       "    <tr>\n",
       "      <th>0</th>\n",
       "      <td>-0.091950</td>\n",
       "      <td>0.846627</td>\n",
       "      <td>0</td>\n",
       "    </tr>\n",
       "  </tbody>\n",
       "</table>\n",
       "</div>"
      ],
      "text/plain": [
       "     feature_1  feature 2  target\n",
       "520  -0.872657  -0.464123       0\n",
       "414   1.552226  -0.676941       0\n",
       "895   0.682641  -1.842999       0\n",
       "649  -0.271129  -1.085376       0\n",
       "0    -0.091950   0.846627       0"
      ]
     },
     "execution_count": 29,
     "metadata": {},
     "output_type": "execute_result"
    }
   ],
   "source": [
    "df_majority_downsampled.head()"
   ]
  },
  {
   "cell_type": "code",
   "execution_count": 30,
   "id": "86a48e1a-7f82-4d3f-be2b-cc79d219371d",
   "metadata": {},
   "outputs": [
    {
     "data": {
      "text/plain": [
       "(100, 3)"
      ]
     },
     "execution_count": 30,
     "metadata": {},
     "output_type": "execute_result"
    }
   ],
   "source": [
    "df_majority_downsampled.shape"
   ]
  },
  {
   "cell_type": "code",
   "execution_count": 31,
   "id": "c9e9ce8d-aa41-4df9-bfa9-03b563124320",
   "metadata": {},
   "outputs": [],
   "source": [
    "df_downsampled=pd.concat([df_minority , df_majority_downsampled])"
   ]
  },
  {
   "cell_type": "code",
   "execution_count": 32,
   "id": "9347b1ab-f5dd-4b5d-95d5-2dd1fe8973bb",
   "metadata": {},
   "outputs": [
    {
     "data": {
      "text/plain": [
       "target\n",
       "1    100\n",
       "0    100\n",
       "Name: count, dtype: int64"
      ]
     },
     "execution_count": 32,
     "metadata": {},
     "output_type": "execute_result"
    }
   ],
   "source": [
    "df_downsampled['target'].value_counts()"
   ]
  },
  {
   "cell_type": "code",
   "execution_count": null,
   "id": "6bb7dacc-c82b-47e6-aca3-5f25aa2c78ee",
   "metadata": {},
   "outputs": [],
   "source": []
  }
 ],
 "metadata": {
  "kernelspec": {
   "display_name": "Python 3 (ipykernel)",
   "language": "python",
   "name": "python3"
  },
  "language_info": {
   "codemirror_mode": {
    "name": "ipython",
    "version": 3
   },
   "file_extension": ".py",
   "mimetype": "text/x-python",
   "name": "python",
   "nbconvert_exporter": "python",
   "pygments_lexer": "ipython3",
   "version": "3.13.2"
  }
 },
 "nbformat": 4,
 "nbformat_minor": 5
}
