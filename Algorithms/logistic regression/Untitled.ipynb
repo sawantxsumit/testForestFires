{
 "cells": [
  {
   "cell_type": "code",
   "execution_count": null,
   "id": "d471a949-f9b2-4117-ae5e-d4a2d87f8646",
   "metadata": {},
   "outputs": [],
   "source": []
  }
 ],
 "metadata": {
  "kernelspec": {
   "display_name": "Python 3 (ipykernel)",
   "language": "python",
   "name": "python3"
  },
  "language_info": {
   "codemirror_mode": {
    "name": "ipython",
    "version": 3
   },
   "file_extension": ".py",
   "mimetype": "text/x-python",
   "name": "python",
   "nbconvert_exporter": "python",
   "pygments_lexer": "ipython3",
   "version": "3.13.2"
  }
 },
 "nbformat": 4,
 "nbformat_minor": 5
}
