{
 "cells": [
  {
   "cell_type": "markdown",
   "id": "b8e7beee-abd2-49f5-b690-9b929853512f",
   "metadata": {},
   "source": [
    "# Black friday EDA and feature engineering"
   ]
  },
  {
   "cell_type": "markdown",
   "id": "b2ff4bc0-d88a-490a-b6d8-40818e5dcdb0",
   "metadata": {},
   "source": [
    "## cleaning and preparing the data for model training"
   ]
  },
  {
   "cell_type": "code",
   "execution_count": 5,
   "id": "11bb7c64-0cdf-4b16-8ec8-11b734825a64",
   "metadata": {},
   "outputs": [],
   "source": [
    "import numpy as np \n",
    "import pandas as pd\n",
    "import seaborn as sns\n",
    "import matplotlib.pyplot as plt"
   ]
  },
  {
   "cell_type": "code",
   "execution_count": null,
   "id": "be053fc7-a3fa-419c-a2d9-1f991dde03ce",
   "metadata": {},
   "outputs": [],
   "source": []
  },
  {
   "cell_type": "code",
   "execution_count": null,
   "id": "c3c3c38d-4438-46cd-95f1-a42555e04a06",
   "metadata": {},
   "outputs": [],
   "source": []
  }
 ],
 "metadata": {
  "kernelspec": {
   "display_name": "Python 3 (ipykernel)",
   "language": "python",
   "name": "python3"
  },
  "language_info": {
   "codemirror_mode": {
    "name": "ipython",
    "version": 3
   },
   "file_extension": ".py",
   "mimetype": "text/x-python",
   "name": "python",
   "nbconvert_exporter": "python",
   "pygments_lexer": "ipython3",
   "version": "3.13.2"
  }
 },
 "nbformat": 4,
 "nbformat_minor": 5
}
